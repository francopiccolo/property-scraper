{
 "cells": [
  {
   "cell_type": "code",
   "execution_count": 341,
   "metadata": {},
   "outputs": [],
   "source": [
    "import pandas as pd\n",
    "from matplotlib import pyplot as plt"
   ]
  },
  {
   "cell_type": "code",
   "execution_count": 519,
   "metadata": {},
   "outputs": [],
   "source": [
    "df_raw = pd.read_csv('data/df.csv')\n",
    "df = df_raw"
   ]
  },
  {
   "cell_type": "code",
   "execution_count": 520,
   "metadata": {},
   "outputs": [],
   "source": [
    "df['price_per_covered_meter'] = df['price'] / df['covered_area']\n",
    "df['uncovered_area'] = df['total_area'] - df['covered_area']\n",
    "uncovered_adj_factor = 0.5\n",
    "df['total_area_adj'] = df['covered_area'] + df['uncovered_area'] * uncovered_adj_factor\n",
    "df['price_per_meter'] = df['price'] / df['total_area']\n",
    "df['price_per_meter_adj'] = df['price'] / df['total_area_adj']\n",
    "\n",
    "from shapely.geometry import Point, Polygon\n",
    "\n",
    "isla = (-32.934436, -60.612972)\n",
    "feb27_y_rio = (-32.971455, -60.621508)\n",
    "feb27_y_francia = (-32.962786, -60.670989)\n",
    "feb_27_y_avellaneda = (-32.960207, -60.684755)\n",
    "pellegrini_y_rio = (-32.961039, -60.620171)\n",
    "pellegrini_y_francia = (-32.952382, -60.668372)\n",
    "pellegrini_y_avellaneda = (-32.950064, -60.682064)\n",
    "avellaneda_y_rio = (-32.911361, -60.671997)\n",
    "francia_y_rio = (-32.924599, -60.661318)\n",
    "\n",
    "def in_city_center(lat, long):\n",
    "    point = Point(lat, long)\n",
    "    polygon = Polygon([avellaneda_y_rio, isla, feb27_y_rio, feb_27_y_avellaneda])\n",
    "    return polygon.contains(point)\n",
    "\n",
    "df['in_city_center'] = df.apply(lambda row: in_city_center(row['lat'], row['long']), axis=1)\n"
   ]
  },
  {
   "cell_type": "code",
   "execution_count": 521,
   "metadata": {},
   "outputs": [
    {
     "data": {
      "text/html": [
       "<div>\n",
       "<style scoped>\n",
       "    .dataframe tbody tr th:only-of-type {\n",
       "        vertical-align: middle;\n",
       "    }\n",
       "\n",
       "    .dataframe tbody tr th {\n",
       "        vertical-align: top;\n",
       "    }\n",
       "\n",
       "    .dataframe thead th {\n",
       "        text-align: right;\n",
       "    }\n",
       "</style>\n",
       "<table border=\"1\" class=\"dataframe\">\n",
       "  <thead>\n",
       "    <tr style=\"text-align: right;\">\n",
       "      <th></th>\n",
       "      <th>title</th>\n",
       "      <th>currency</th>\n",
       "      <th>low_price</th>\n",
       "      <th>high_price</th>\n",
       "      <th>price</th>\n",
       "      <th>location</th>\n",
       "      <th>address</th>\n",
       "      <th>area_unit</th>\n",
       "      <th>total_area</th>\n",
       "      <th>covered_area</th>\n",
       "      <th>...</th>\n",
       "      <th>route</th>\n",
       "      <th>street_number</th>\n",
       "      <th>lat</th>\n",
       "      <th>long</th>\n",
       "      <th>price_per_covered_meter</th>\n",
       "      <th>uncovered_area</th>\n",
       "      <th>total_area_adj</th>\n",
       "      <th>price_per_meter</th>\n",
       "      <th>price_per_meter_adj</th>\n",
       "      <th>in_city_center</th>\n",
       "    </tr>\n",
       "  </thead>\n",
       "  <tbody>\n",
       "    <tr>\n",
       "      <th>0</th>\n",
       "      <td>Casa - Fisherton</td>\n",
       "      <td>USD</td>\n",
       "      <td>NaN</td>\n",
       "      <td>NaN</td>\n",
       "      <td>180000.0</td>\n",
       "      <td>Fisherton, Rosario</td>\n",
       "      <td>Wilde 455 BIS 00-08</td>\n",
       "      <td>NaN</td>\n",
       "      <td>148.0</td>\n",
       "      <td>148.0</td>\n",
       "      <td>...</td>\n",
       "      <td>NaN</td>\n",
       "      <td>NaN</td>\n",
       "      <td>NaN</td>\n",
       "      <td>NaN</td>\n",
       "      <td>1216.216216</td>\n",
       "      <td>0.0</td>\n",
       "      <td>148.0</td>\n",
       "      <td>1216.216216</td>\n",
       "      <td>1216.216216</td>\n",
       "      <td>False</td>\n",
       "    </tr>\n",
       "    <tr>\n",
       "      <th>1</th>\n",
       "      <td>Casa en Venta Tres Dorm. Fisherton</td>\n",
       "      <td>USD</td>\n",
       "      <td>NaN</td>\n",
       "      <td>NaN</td>\n",
       "      <td>68000.0</td>\n",
       "      <td>Fisherton, Rosario</td>\n",
       "      <td>Wilde Bis 1100</td>\n",
       "      <td>NaN</td>\n",
       "      <td>269.0</td>\n",
       "      <td>130.0</td>\n",
       "      <td>...</td>\n",
       "      <td>NaN</td>\n",
       "      <td>NaN</td>\n",
       "      <td>NaN</td>\n",
       "      <td>NaN</td>\n",
       "      <td>523.076923</td>\n",
       "      <td>139.0</td>\n",
       "      <td>199.5</td>\n",
       "      <td>252.788104</td>\n",
       "      <td>340.852130</td>\n",
       "      <td>False</td>\n",
       "    </tr>\n",
       "    <tr>\n",
       "      <th>2</th>\n",
       "      <td>Venta Casa de 2 Dorm.. Empalme Graneros.</td>\n",
       "      <td>USD</td>\n",
       "      <td>NaN</td>\n",
       "      <td>NaN</td>\n",
       "      <td>50000.0</td>\n",
       "      <td>Empalme Graneros, Rosario</td>\n",
       "      <td>Gabriel Carrasco 2375</td>\n",
       "      <td>NaN</td>\n",
       "      <td>90.0</td>\n",
       "      <td>90.0</td>\n",
       "      <td>...</td>\n",
       "      <td>NaN</td>\n",
       "      <td>NaN</td>\n",
       "      <td>NaN</td>\n",
       "      <td>NaN</td>\n",
       "      <td>555.555556</td>\n",
       "      <td>0.0</td>\n",
       "      <td>90.0</td>\n",
       "      <td>555.555556</td>\n",
       "      <td>555.555556</td>\n",
       "      <td>False</td>\n",
       "    </tr>\n",
       "    <tr>\n",
       "      <th>3</th>\n",
       "      <td>Conocé los alrededores de la propiedad</td>\n",
       "      <td>USD</td>\n",
       "      <td>NaN</td>\n",
       "      <td>NaN</td>\n",
       "      <td>177235.0</td>\n",
       "      <td>Distrito Centro, Rosario</td>\n",
       "      <td>Laprida 1300</td>\n",
       "      <td>NaN</td>\n",
       "      <td>NaN</td>\n",
       "      <td>NaN</td>\n",
       "      <td>...</td>\n",
       "      <td>NaN</td>\n",
       "      <td>NaN</td>\n",
       "      <td>NaN</td>\n",
       "      <td>NaN</td>\n",
       "      <td>NaN</td>\n",
       "      <td>NaN</td>\n",
       "      <td>NaN</td>\n",
       "      <td>NaN</td>\n",
       "      <td>NaN</td>\n",
       "      <td>False</td>\n",
       "    </tr>\n",
       "    <tr>\n",
       "      <th>4</th>\n",
       "      <td>Casa - Luis Agote</td>\n",
       "      <td>USD</td>\n",
       "      <td>NaN</td>\n",
       "      <td>NaN</td>\n",
       "      <td>103500.0</td>\n",
       "      <td>Luis Agote, Distrito Centro</td>\n",
       "      <td>Jujuy 3200</td>\n",
       "      <td>NaN</td>\n",
       "      <td>112.0</td>\n",
       "      <td>112.0</td>\n",
       "      <td>...</td>\n",
       "      <td>NaN</td>\n",
       "      <td>NaN</td>\n",
       "      <td>NaN</td>\n",
       "      <td>NaN</td>\n",
       "      <td>924.107143</td>\n",
       "      <td>0.0</td>\n",
       "      <td>112.0</td>\n",
       "      <td>924.107143</td>\n",
       "      <td>924.107143</td>\n",
       "      <td>False</td>\n",
       "    </tr>\n",
       "  </tbody>\n",
       "</table>\n",
       "<p>5 rows × 29 columns</p>\n",
       "</div>"
      ],
      "text/plain": [
       "                                      title currency  low_price  high_price  \\\n",
       "0                          Casa - Fisherton      USD        NaN         NaN   \n",
       "1        Casa en Venta Tres Dorm. Fisherton      USD        NaN         NaN   \n",
       "2  Venta Casa de 2 Dorm.. Empalme Graneros.      USD        NaN         NaN   \n",
       "3    Conocé los alrededores de la propiedad      USD        NaN         NaN   \n",
       "4                         Casa - Luis Agote      USD        NaN         NaN   \n",
       "\n",
       "      price                     location                address  area_unit  \\\n",
       "0  180000.0           Fisherton, Rosario    Wilde 455 BIS 00-08        NaN   \n",
       "1   68000.0           Fisherton, Rosario         Wilde Bis 1100        NaN   \n",
       "2   50000.0    Empalme Graneros, Rosario  Gabriel Carrasco 2375        NaN   \n",
       "3  177235.0     Distrito Centro, Rosario           Laprida 1300        NaN   \n",
       "4  103500.0  Luis Agote, Distrito Centro             Jujuy 3200        NaN   \n",
       "\n",
       "   total_area  covered_area  ...  route  street_number  lat  long  \\\n",
       "0       148.0         148.0  ...    NaN            NaN  NaN   NaN   \n",
       "1       269.0         130.0  ...    NaN            NaN  NaN   NaN   \n",
       "2        90.0          90.0  ...    NaN            NaN  NaN   NaN   \n",
       "3         NaN           NaN  ...    NaN            NaN  NaN   NaN   \n",
       "4       112.0         112.0  ...    NaN            NaN  NaN   NaN   \n",
       "\n",
       "   price_per_covered_meter uncovered_area  total_area_adj price_per_meter  \\\n",
       "0              1216.216216            0.0           148.0     1216.216216   \n",
       "1               523.076923          139.0           199.5      252.788104   \n",
       "2               555.555556            0.0            90.0      555.555556   \n",
       "3                      NaN            NaN             NaN             NaN   \n",
       "4               924.107143            0.0           112.0      924.107143   \n",
       "\n",
       "  price_per_meter_adj in_city_center  \n",
       "0         1216.216216          False  \n",
       "1          340.852130          False  \n",
       "2          555.555556          False  \n",
       "3                 NaN          False  \n",
       "4          924.107143          False  \n",
       "\n",
       "[5 rows x 29 columns]"
      ]
     },
     "execution_count": 521,
     "metadata": {},
     "output_type": "execute_result"
    }
   ],
   "source": [
    "df.head()"
   ]
  },
  {
   "cell_type": "code",
   "execution_count": 522,
   "metadata": {},
   "outputs": [],
   "source": [
    "n = df.shape[0]"
   ]
  },
  {
   "cell_type": "code",
   "execution_count": 523,
   "metadata": {},
   "outputs": [
    {
     "data": {
      "text/plain": [
       "USD    0.978226\n",
       "ARS    0.021774\n",
       "Name: currency, dtype: float64"
      ]
     },
     "execution_count": 523,
     "metadata": {},
     "output_type": "execute_result"
    }
   ],
   "source": [
    "df['currency'].value_counts()/n"
   ]
  },
  {
   "cell_type": "code",
   "execution_count": 524,
   "metadata": {},
   "outputs": [],
   "source": [
    "mask = df['currency'] == 'USD'\n",
    "df = df[mask]\n",
    "n = df.shape[0]"
   ]
  },
  {
   "cell_type": "code",
   "execution_count": 525,
   "metadata": {},
   "outputs": [
    {
     "data": {
      "text/plain": [
       "<AxesSubplot:>"
      ]
     },
     "execution_count": 525,
     "metadata": {},
     "output_type": "execute_result"
    },
    {
     "data": {
      "image/png": "[encoded data removed]",
      "text/plain": [
       "<Figure size 432x288 with 1 Axes>"
      ]
     },
     "metadata": {
      "needs_background": "light"
     },
     "output_type": "display_data"
    }
   ],
   "source": [
    "df['price_per_meter'].hist()"
   ]
  },
  {
   "cell_type": "code",
   "execution_count": 526,
   "metadata": {},
   "outputs": [
    {
     "data": {
      "text/plain": [
       "<AxesSubplot:>"
      ]
     },
     "execution_count": 526,
     "metadata": {},
     "output_type": "execute_result"
    },
    {
     "data": {
      "image/png": "[encoded data removed]",
      "text/plain": [
       "<Figure size 432x288 with 1 Axes>"
      ]
     },
     "metadata": {
      "needs_background": "light"
     },
     "output_type": "display_data"
    }
   ],
   "source": [
    "mask = df['price_per_meter'] < 5000\n",
    "df[mask]['price_per_meter'].hist()"
   ]
  },
  {
   "cell_type": "code",
   "execution_count": 527,
   "metadata": {},
   "outputs": [
    {
     "data": {
      "text/plain": [
       "0.004396812311074471"
      ]
     },
     "execution_count": 527,
     "metadata": {},
     "output_type": "execute_result"
    }
   ],
   "source": [
    "mask = df['price_per_meter'] > 5000\n",
    "df[mask].shape[0]/n"
   ]
  },
  {
   "cell_type": "code",
   "execution_count": 528,
   "metadata": {},
   "outputs": [],
   "source": [
    "mask = df['price_per_meter'] < 4000\n",
    "df = df[mask]\n",
    "n = df.shape[0]"
   ]
  },
  {
   "cell_type": "code",
   "execution_count": 529,
   "metadata": {},
   "outputs": [
    {
     "data": {
      "text/plain": [
       "<AxesSubplot:>"
      ]
     },
     "execution_count": 529,
     "metadata": {},
     "output_type": "execute_result"
    },
    {
     "data": {
      "image/png": "[encoded data removed]",
      "text/plain": [
       "<Figure size 432x288 with 1 Axes>"
      ]
     },
     "metadata": {
      "needs_background": "light"
     },
     "output_type": "display_data"
    }
   ],
   "source": [
    "df['price_per_meter'].hist()"
   ]
  },
  {
   "cell_type": "code",
   "execution_count": 530,
   "metadata": {},
   "outputs": [
    {
     "data": {
      "text/plain": [
       "'https://www.zonaprop.com.ar/propiedades/departamento-duplex-2-dorm.-en-venta.-vista-franca-al-49028417.html'"
      ]
     },
     "execution_count": 530,
     "metadata": {},
     "output_type": "execute_result"
    }
   ],
   "source": [
    "mask = df['price_per_meter'] > 3000\n",
    "df[mask]['url'].iloc[1]"
   ]
  },
  {
   "cell_type": "code",
   "execution_count": 531,
   "metadata": {},
   "outputs": [],
   "source": [
    "mask = df['price'] > 1\n",
    "df = df[mask]\n",
    "n = df.shape[0]"
   ]
  },
  {
   "cell_type": "code",
   "execution_count": 532,
   "metadata": {},
   "outputs": [],
   "source": [
    "mask = df['price_per_meter'] > 100\n",
    "df = df[mask]\n",
    "n = df.shape[0]"
   ]
  },
  {
   "cell_type": "code",
   "execution_count": 533,
   "metadata": {},
   "outputs": [
    {
     "data": {
      "text/plain": [
       "'https://www.zonaprop.com.ar/propiedades/casa-de-3-dorm.-en-venta-con-pileta-y-cochera-hostal-47870413.html'"
      ]
     },
     "execution_count": 533,
     "metadata": {},
     "output_type": "execute_result"
    }
   ],
   "source": [
    "mask = df['price_per_meter'] < 200\n",
    "df[mask]['url'].iloc[1]"
   ]
  },
  {
   "cell_type": "code",
   "execution_count": 534,
   "metadata": {},
   "outputs": [
    {
     "data": {
      "text/plain": [
       "<AxesSubplot:>"
      ]
     },
     "execution_count": 534,
     "metadata": {},
     "output_type": "execute_result"
    },
    {
     "data": {
      "image/png": "[encoded data removed]",
      "text/plain": [
       "<Figure size 432x288 with 1 Axes>"
      ]
     },
     "metadata": {
      "needs_background": "light"
     },
     "output_type": "display_data"
    }
   ],
   "source": [
    "df['price_per_meter'].hist()"
   ]
  },
  {
   "cell_type": "code",
   "execution_count": 535,
   "metadata": {},
   "outputs": [
    {
     "data": {
      "text/plain": [
       "location\n",
       "Rosario, Santa Fe                                      1205\n",
       "Fisherton, Rosario                                      488\n",
       "Distrito Centro, Rosario                                223\n",
       "Alberdi, Rosario                                        169\n",
       "Echesortu, Rosario                                      151\n",
       "Belgrano, Rosario                                       113\n",
       "Abasto, Rosario                                         112\n",
       "Arroyito, Rosario                                       107\n",
       "La Florida, Rosario                                      89\n",
       "Azcuénaga, Rosario                                       74\n",
       "Tiro Suizo, Rosario                                      64\n",
       "Ludueña, Rosario                                         49\n",
       "Saladillo, Rosario                                       49\n",
       "España y Hospitales, Rosario                             48\n",
       "Pichincha, Rosario                                       44\n",
       "Martin, Rosario                                          42\n",
       "Bella Vista, Rosario                                     41\n",
       "Sarmiento, Rosario                                       28\n",
       "Domingo Matheu, Distrito Sur                             27\n",
       "República de la Sexta, Rosario                           27\n",
       "Jorge Cura, Rosario                                      26\n",
       "Roque Sáenz Peña, Rosario                                25\n",
       "Las Delicias, Rosario                                    22\n",
       "Las Heras, Rosario                                       21\n",
       "Distrito Sur, Rosario                                    19\n",
       "Empalme Graneros, Rosario                                17\n",
       "Refinerías, Rosario                                      16\n",
       "Triángulo, Rosario                                       15\n",
       "La Tablada, Rosario                                      15\n",
       "Luis Agote, Distrito Centro                              15\n",
       "Del Parque, Rosario                                      13\n",
       "Nuestra Señora de Lourdes, Distrito Centro               13\n",
       "Cinco Esquinas, Distrito Oeste                           11\n",
       "Lisandro De La Torre, Rosario                            11\n",
       "Distrito Sudoeste, Rosario                                9\n",
       "Parque Field, Rosario                                     9\n",
       "General José de San Martín, Distrito Sur                  8\n",
       "Las Flores, Rosario                                       8\n",
       "Distrito Oeste, Rosario                                   7\n",
       "Parque Casado, Rosario                                    6\n",
       "Distrito Norte, Rosario                                   5\n",
       "Godoy, Rosario                                            5\n",
       "La Siberia, Rosario                                       4\n",
       "Sorrento, Rosario                                         2\n",
       "General Las Heras, Distrito Sur                           2\n",
       "Distrito Noroeste, Rosario                                2\n",
       "Moderno, Rosario                                          2\n",
       "Celedonio Escalada, Distrito Norte                        2\n",
       "Puerto Norte, Rosario                                     2\n",
       "Remedios de Escalada de San Martín, Distrito Centro       2\n",
       "Aguadas Barrio Privado, Rosario                           1\n",
       "Name: price_per_meter, dtype: int64"
      ]
     },
     "execution_count": 535,
     "metadata": {},
     "output_type": "execute_result"
    }
   ],
   "source": [
    "df.groupby('location')['price_per_meter'].size().sort_values(ascending=False)"
   ]
  },
  {
   "cell_type": "code",
   "execution_count": 536,
   "metadata": {},
   "outputs": [
    {
     "data": {
      "image/png": "[encoded data removed]",
      "text/plain": [
       "<Figure size 720x360 with 1 Axes>"
      ]
     },
     "metadata": {
      "needs_background": "light"
     },
     "output_type": "display_data"
    }
   ],
   "source": [
    "is_big_location = df.groupby('location')['price_per_meter'].size() > 20\n",
    "big_locations = is_big_location.index[is_big_location.values]\n",
    "mask = df['location'].isin(big_locations)\n",
    "df[mask].groupby('location')['price_per_meter'].mean().sort_values().plot.barh(figsize=(10, 5))\n",
    "plt.tight_layout()\n",
    "plt.savefig('data/charts/price_per_meter.jpg')"
   ]
  },
  {
   "cell_type": "code",
   "execution_count": 537,
   "metadata": {},
   "outputs": [
    {
     "data": {
      "text/plain": [
       "'https://www.zonaprop.com.ar/propiedades/pje.-r.-wagner-1200-e.-rios-4100-casa-de-cinco-48381728.html'"
      ]
     },
     "execution_count": 537,
     "metadata": {},
     "output_type": "execute_result"
    }
   ],
   "source": [
    "mask = df['location'] == 'Rosario, Santa Fe'\n",
    "df[mask]['url'].iloc[2]"
   ]
  },
  {
   "cell_type": "code",
   "execution_count": 538,
   "metadata": {},
   "outputs": [],
   "source": [
    "age_mask = df['age'] < 200\n",
    "df = df[age_mask]\n",
    "n = df.shape[0]"
   ]
  },
  {
   "cell_type": "code",
   "execution_count": 539,
   "metadata": {},
   "outputs": [
    {
     "name": "stdout",
     "output_type": "stream",
     "text": [
      "Total area abu 320\n",
      "Total area adjusted abu 280.0\n"
     ]
    }
   ],
   "source": [
    "# Casa de la abuela\n",
    "direccion_abu = 'Santiago 440'\n",
    "terreno_abu = 270\n",
    "covered_area_abu = 240\n",
    "uncovered_area_abu = 80\n",
    "age_abu = 50\n",
    "total_area_abu = covered_area_abu + uncovered_area_abu\n",
    "total_area_adj_abu = covered_area_abu + uncovered_area_abu * 0.5\n",
    "print('Total area abu', total_area_abu)\n",
    "print('Total area adjusted abu', total_area_adj_abu)"
   ]
  },
  {
   "cell_type": "code",
   "execution_count": 540,
   "metadata": {},
   "outputs": [],
   "source": [
    "total_area_mask = (df['total_area'] > total_area_abu - 60) & (df['total_area'] < total_area_abu + 60)\n",
    "covered_area_mask = (df['covered_area'] > covered_area_abu - 60) & (df['covered_area'] < covered_area_abu + 60)\n",
    "uncovered_area_mask = (df['uncovered_area'] > uncovered_area_abu - 60) & (df['uncovered_area'] < uncovered_area_abu + 60)\n",
    "age_mask = (df['age'] > age_abu - 30) & (df['age'] < age_abu + 30)"
   ]
  },
  {
   "cell_type": "code",
   "execution_count": 541,
   "metadata": {},
   "outputs": [],
   "source": [
    "df_abu = df[total_area_mask & covered_area_mask & age_mask & uncovered_area_mask]"
   ]
  },
  {
   "cell_type": "code",
   "execution_count": 542,
   "metadata": {},
   "outputs": [
    {
     "data": {
      "text/plain": [
       "<AxesSubplot:>"
      ]
     },
     "execution_count": 542,
     "metadata": {},
     "output_type": "execute_result"
    },
    {
     "data": {
      "image/png": "[encoded data removed]",
      "text/plain": [
       "<Figure size 432x288 with 1 Axes>"
      ]
     },
     "metadata": {
      "needs_background": "light"
     },
     "output_type": "display_data"
    }
   ],
   "source": [
    "df_abu['price_per_meter_adj'].hist()"
   ]
  },
  {
   "cell_type": "code",
   "execution_count": 543,
   "metadata": {},
   "outputs": [],
   "source": [
    "columns = [col for col in df.columns if col not in ['currency', 'area_unit', 'file', 'low_price', 'high_price']]\n",
    "df_abu[columns].to_csv('data/df_abu_no_loc.csv', index=False)"
   ]
  },
  {
   "cell_type": "code",
   "execution_count": 544,
   "metadata": {},
   "outputs": [],
   "source": [
    "location_mask = df_abu['in_city_center']\n",
    "df_abu = df_abu[location_mask]"
   ]
  },
  {
   "cell_type": "code",
   "execution_count": 545,
   "metadata": {},
   "outputs": [
    {
     "data": {
      "text/plain": [
       "<AxesSubplot:>"
      ]
     },
     "execution_count": 545,
     "metadata": {},
     "output_type": "execute_result"
    },
    {
     "data": {
      "image/png": "[encoded data removed]",
      "text/plain": [
       "<Figure size 432x288 with 1 Axes>"
      ]
     },
     "metadata": {
      "needs_background": "light"
     },
     "output_type": "display_data"
    }
   ],
   "source": [
    "df_abu['price_per_meter_adj'].hist()"
   ]
  },
  {
   "cell_type": "code",
   "execution_count": 551,
   "metadata": {},
   "outputs": [
    {
     "name": "stdout",
     "output_type": "stream",
     "text": [
      "Price estimate based on covered meter new price 448000.0\n",
      "Price estimate based on average price of meter adjusted 391140.3001166982\n",
      "Price estimate based on median price of meter adjusted 365237.093380806\n"
     ]
    }
   ],
   "source": [
    "print('Price estimate based on covered meter new price', total_area_adj_abu*1600)\n",
    "print('Price estimate based on average price of meter adjusted', df_abu['price_per_meter_adj'].mean() * total_area_adj_abu)\n",
    "print('Price estimate based on median price of meter adjusted', df_abu['price_per_meter_adj'].median() * total_area_adj_abu)\n",
    "df_abu[columns].to_csv('data/df_abu.csv', index=False)"
   ]
  },
  {
   "cell_type": "code",
   "execution_count": 420,
   "metadata": {},
   "outputs": [],
   "source": [
    "# Next steps\n",
    "# Automate Pandas to spreadsheets"
   ]
  }
 ],
 "metadata": {
  "interpreter": {
   "hash": "76a5b59d517bd0f6ad9c8606b6b5c55bb0b0ba4979dbbe17a1b6fb615220ab18"
  },
  "kernelspec": {
   "display_name": "Python 3.8.5 64-bit ('base': conda)",
   "language": "python",
   "name": "python3"
  },
  "language_info": {
   "codemirror_mode": {
    "name": "ipython",
    "version": 3
   },
   "file_extension": ".py",
   "mimetype": "text/x-python",
   "name": "python",
   "nbconvert_exporter": "python",
   "pygments_lexer": "ipython3",
   "version": "3.8.5 (default, Sep  4 2020, 02:22:02) \n[Clang 10.0.0 ]"
  },
  "orig_nbformat": 4
 },
 "nbformat": 4,
 "nbformat_minor": 2
}
